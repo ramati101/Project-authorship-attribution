{
 "cells": [
  {
   "cell_type": "code",
   "execution_count": 1,
   "metadata": {},
   "outputs": [],
   "source": [
    "import sys\n",
    "import nltk\n",
    "from nltk import FreqDist\n",
    "import pandas as pd\n",
    "import numpy as np\n",
    "import matplotlib as plt\n",
    "import seaborn as sns\n",
    "import sklearn as skl\n",
    "from nltk.corpus import stopwords\n",
    "from random import shuffle"
   ]
  },
  {
   "cell_type": "code",
   "execution_count": 2,
   "metadata": {},
   "outputs": [
    {
     "data": {
      "text/html": [
       "<div>\n",
       "<style scoped>\n",
       "    .dataframe tbody tr th:only-of-type {\n",
       "        vertical-align: middle;\n",
       "    }\n",
       "\n",
       "    .dataframe tbody tr th {\n",
       "        vertical-align: top;\n",
       "    }\n",
       "\n",
       "    .dataframe thead th {\n",
       "        text-align: right;\n",
       "    }\n",
       "</style>\n",
       "<table border=\"1\" class=\"dataframe\">\n",
       "  <thead>\n",
       "    <tr style=\"text-align: right;\">\n",
       "      <th></th>\n",
       "      <th>id</th>\n",
       "      <th>text</th>\n",
       "    </tr>\n",
       "  </thead>\n",
       "  <tbody>\n",
       "    <tr>\n",
       "      <th>0</th>\n",
       "      <td>2059027</td>\n",
       "      <td>Info has been found (+/- 100 pages,...</td>\n",
       "    </tr>\n",
       "    <tr>\n",
       "      <th>1</th>\n",
       "      <td>2059027</td>\n",
       "      <td>These are the team members:   Drewe...</td>\n",
       "    </tr>\n",
       "    <tr>\n",
       "      <th>2</th>\n",
       "      <td>2059027</td>\n",
       "      <td>In het kader van kernfusie op aarde...</td>\n",
       "    </tr>\n",
       "    <tr>\n",
       "      <th>3</th>\n",
       "      <td>2059027</td>\n",
       "      <td>testing!!!  testing!!!</td>\n",
       "    </tr>\n",
       "    <tr>\n",
       "      <th>4</th>\n",
       "      <td>3581210</td>\n",
       "      <td>Thanks to Yahoo!'s Toolbar I can ...</td>\n",
       "    </tr>\n",
       "  </tbody>\n",
       "</table>\n",
       "</div>"
      ],
      "text/plain": [
       "        id                                               text\n",
       "0  2059027             Info has been found (+/- 100 pages,...\n",
       "1  2059027             These are the team members:   Drewe...\n",
       "2  2059027             In het kader van kernfusie op aarde...\n",
       "3  2059027                   testing!!!  testing!!!          \n",
       "4  3581210               Thanks to Yahoo!'s Toolbar I can ..."
      ]
     },
     "execution_count": 2,
     "metadata": {},
     "output_type": "execute_result"
    }
   ],
   "source": [
    "df = pd.read_csv('blogtext.csv')\n",
    "# drop the irrelevant columns\n",
    "df = df.drop(['date', 'sign', 'topic', 'age', 'gender'], axis = 1)\n",
    "df.head()"
   ]
  },
  {
   "cell_type": "code",
   "execution_count": 5,
   "metadata": {},
   "outputs": [
    {
     "data": {
      "text/html": [
       "<div>\n",
       "<style scoped>\n",
       "    .dataframe tbody tr th:only-of-type {\n",
       "        vertical-align: middle;\n",
       "    }\n",
       "\n",
       "    .dataframe tbody tr th {\n",
       "        vertical-align: top;\n",
       "    }\n",
       "\n",
       "    .dataframe thead th {\n",
       "        text-align: right;\n",
       "    }\n",
       "</style>\n",
       "<table border=\"1\" class=\"dataframe\">\n",
       "  <thead>\n",
       "    <tr style=\"text-align: right;\">\n",
       "      <th></th>\n",
       "      <th>id</th>\n",
       "      <th>text</th>\n",
       "    </tr>\n",
       "  </thead>\n",
       "  <tbody>\n",
       "    <tr>\n",
       "      <th>681279</th>\n",
       "      <td>1713845</td>\n",
       "      <td>Dear Susan,  I could write some really ...</td>\n",
       "    </tr>\n",
       "    <tr>\n",
       "      <th>681280</th>\n",
       "      <td>1713845</td>\n",
       "      <td>Dear Susan,  'I have the second yeast i...</td>\n",
       "    </tr>\n",
       "    <tr>\n",
       "      <th>681281</th>\n",
       "      <td>1713845</td>\n",
       "      <td>Dear Susan,  Your 'boyfriend' is fuckin...</td>\n",
       "    </tr>\n",
       "    <tr>\n",
       "      <th>681282</th>\n",
       "      <td>1713845</td>\n",
       "      <td>Dear Susan:    Just to clarify, I am as...</td>\n",
       "    </tr>\n",
       "    <tr>\n",
       "      <th>681283</th>\n",
       "      <td>1713845</td>\n",
       "      <td>Hey everybody...and Susan,  You might a...</td>\n",
       "    </tr>\n",
       "  </tbody>\n",
       "</table>\n",
       "</div>"
      ],
      "text/plain": [
       "             id                                               text\n",
       "681279  1713845         Dear Susan,  I could write some really ...\n",
       "681280  1713845         Dear Susan,  'I have the second yeast i...\n",
       "681281  1713845         Dear Susan,  Your 'boyfriend' is fuckin...\n",
       "681282  1713845         Dear Susan:    Just to clarify, I am as...\n",
       "681283  1713845         Hey everybody...and Susan,  You might a..."
      ]
     },
     "execution_count": 5,
     "metadata": {},
     "output_type": "execute_result"
    }
   ],
   "source": [
    "df.tail()"
   ]
  },
  {
   "cell_type": "code",
   "execution_count": 30,
   "metadata": {},
   "outputs": [
    {
     "data": {
      "text/plain": [
       "449628     4221\n",
       "734562     2301\n",
       "589736     2294\n",
       "1975546    2261\n",
       "958176     2244\n",
       "1107146    2237\n",
       "303162     2114\n",
       "942828     2068\n",
       "1270648    1951\n",
       "1784456    1843\n",
       "955372     1771\n",
       "1078410    1731\n",
       "1325355    1702\n",
       "883178     1616\n",
       "595404     1561\n",
       "988941     1542\n",
       "1093691    1533\n",
       "1093457    1533\n",
       "605396     1505\n",
       "322624     1351\n",
       "Name: id, dtype: int64"
      ]
     },
     "execution_count": 30,
     "metadata": {},
     "output_type": "execute_result"
    }
   ],
   "source": [
    "df['id'].value_counts()[:20]"
   ]
  },
  {
   "cell_type": "code",
   "execution_count": 29,
   "metadata": {},
   "outputs": [
    {
     "data": {
      "text/plain": [
       "3545562    99.0\n",
       "3947013    99.0\n",
       "946952     99.0\n",
       "939313     99.0\n",
       "2462546    99.0\n",
       "           ... \n",
       "3993280     1.0\n",
       "3483063     1.0\n",
       "4165047     1.0\n",
       "3575447     1.0\n",
       "3599127     1.0\n",
       "Name: id, Length: 17946, dtype: float64"
      ]
     },
     "execution_count": 29,
     "metadata": {},
     "output_type": "execute_result"
    }
   ],
   "source": [
    "df['id'].value_counts().where(df['id'].value_counts() < 100).dropna()"
   ]
  },
  {
   "cell_type": "code",
   "execution_count": 31,
   "metadata": {},
   "outputs": [
    {
     "name": "stdout",
     "output_type": "stream",
     "text": [
      "number of posts:  23534\n"
     ]
    },
    {
     "data": {
      "image/png": "[encoded data removed]",
      "text/plain": [
       "<Figure size 432x288 with 1 Axes>"
      ]
     },
     "metadata": {
      "needs_background": "light"
     },
     "output_type": "display_data"
    }
   ],
   "source": [
    "top_authors = df['id'].value_counts()[:10].index.tolist()\n",
    "\n",
    "# drop the rows that doesnt belong to authors who in the top 10 list\n",
    "df = df[df['id'].isin(top_authors)]\n",
    "\n",
    "df.reset_index(drop=True, inplace=True)\n",
    "\n",
    "sns.countplot(df['id'], label=\"count\")\n",
    "\n",
    "print(\"number of posts: \",len(df))"
   ]
  },
  {
   "cell_type": "code",
   "execution_count": 32,
   "metadata": {},
   "outputs": [
    {
     "data": {
      "text/html": [
       "<div>\n",
       "<style scoped>\n",
       "    .dataframe tbody tr th:only-of-type {\n",
       "        vertical-align: middle;\n",
       "    }\n",
       "\n",
       "    .dataframe tbody tr th {\n",
       "        vertical-align: top;\n",
       "    }\n",
       "\n",
       "    .dataframe thead th {\n",
       "        text-align: right;\n",
       "    }\n",
       "</style>\n",
       "<table border=\"1\" class=\"dataframe\">\n",
       "  <thead>\n",
       "    <tr style=\"text-align: right;\">\n",
       "      <th></th>\n",
       "      <th>id</th>\n",
       "      <th>text</th>\n",
       "    </tr>\n",
       "  </thead>\n",
       "  <tbody>\n",
       "    <tr>\n",
       "      <th>0</th>\n",
       "      <td>589736</td>\n",
       "      <td>Much funny.  2 points.  As mentioned in the...</td>\n",
       "    </tr>\n",
       "    <tr>\n",
       "      <th>1</th>\n",
       "      <td>589736</td>\n",
       "      <td>Harpers, Harpers, everywhere.  Harpers, Har...</td>\n",
       "    </tr>\n",
       "    <tr>\n",
       "      <th>2</th>\n",
       "      <td>589736</td>\n",
       "      <td>In an earlier post, Johnathan said:   'And ...</td>\n",
       "    </tr>\n",
       "    <tr>\n",
       "      <th>3</th>\n",
       "      <td>589736</td>\n",
       "      <td>I'd post this on the RTG Blog, but I can't...</td>\n",
       "    </tr>\n",
       "    <tr>\n",
       "      <th>4</th>\n",
       "      <td>589736</td>\n",
       "      <td>The answer to the first question lies with ...</td>\n",
       "    </tr>\n",
       "  </tbody>\n",
       "</table>\n",
       "</div>"
      ],
      "text/plain": [
       "       id                                               text\n",
       "0  589736     Much funny.  2 points.  As mentioned in the...\n",
       "1  589736     Harpers, Harpers, everywhere.  Harpers, Har...\n",
       "2  589736     In an earlier post, Johnathan said:   'And ...\n",
       "3  589736      I'd post this on the RTG Blog, but I can't...\n",
       "4  589736     The answer to the first question lies with ..."
      ]
     },
     "execution_count": 32,
     "metadata": {},
     "output_type": "execute_result"
    }
   ],
   "source": [
    "df.head()"
   ]
  },
  {
   "cell_type": "code",
   "execution_count": 37,
   "metadata": {},
   "outputs": [],
   "source": [
    "for i in range(len(df)):\n",
    "    df.loc[i] = [df.loc[i].id, nltk.word_tokenize(df.loc[i].text), '0']"
   ]
  },
  {
   "cell_type": "code",
   "execution_count": null,
   "metadata": {},
   "outputs": [],
   "source": [
    "for i in range(len(df)):\n",
    "    if( len(df.loc[i].text) == 0 ):\n",
    "        df = df.drop([df.loc[i].name])\n",
    "\n",
    "        \n",
    "df.reset_index(drop=True, inplace=True)"
   ]
  },
  {
   "cell_type": "code",
   "execution_count": 82,
   "metadata": {},
   "outputs": [],
   "source": [
    "df['richness'] = '0'\n",
    "\n",
    "for i in range(len(df)):\n",
    "    df.loc[i] = [df.loc[i].id, df.loc[i].text, (len(set(df.loc[i].text)) / len(df.loc[i].text))]"
   ]
  },
  {
   "cell_type": "code",
   "execution_count": 83,
   "metadata": {},
   "outputs": [
    {
     "data": {
      "text/html": [
       "<div>\n",
       "<style scoped>\n",
       "    .dataframe tbody tr th:only-of-type {\n",
       "        vertical-align: middle;\n",
       "    }\n",
       "\n",
       "    .dataframe tbody tr th {\n",
       "        vertical-align: top;\n",
       "    }\n",
       "\n",
       "    .dataframe thead th {\n",
       "        text-align: right;\n",
       "    }\n",
       "</style>\n",
       "<table border=\"1\" class=\"dataframe\">\n",
       "  <thead>\n",
       "    <tr style=\"text-align: right;\">\n",
       "      <th></th>\n",
       "      <th>id</th>\n",
       "      <th>text</th>\n",
       "      <th>richness</th>\n",
       "    </tr>\n",
       "  </thead>\n",
       "  <tbody>\n",
       "    <tr>\n",
       "      <th>23499</th>\n",
       "      <td>1270648</td>\n",
       "      <td>[urlLink, http, :, //www.sciencenews.org/, is,...</td>\n",
       "      <td>1</td>\n",
       "    </tr>\n",
       "    <tr>\n",
       "      <th>23500</th>\n",
       "      <td>1270648</td>\n",
       "      <td>[is, there, any, other, sources, that, describ...</td>\n",
       "      <td>0.755556</td>\n",
       "    </tr>\n",
       "    <tr>\n",
       "      <th>23501</th>\n",
       "      <td>1270648</td>\n",
       "      <td>[Yeah, ,, this, whole, field, is, quite, facin...</td>\n",
       "      <td>0.738739</td>\n",
       "    </tr>\n",
       "    <tr>\n",
       "      <th>23502</th>\n",
       "      <td>1270648</td>\n",
       "      <td>[Actually, ,, my, comment, it, was, genuine, ....</td>\n",
       "      <td>0.824742</td>\n",
       "    </tr>\n",
       "    <tr>\n",
       "      <th>23503</th>\n",
       "      <td>1270648</td>\n",
       "      <td>[Vlad, your, contempt, is, out, of, place, her...</td>\n",
       "      <td>0.717557</td>\n",
       "    </tr>\n",
       "  </tbody>\n",
       "</table>\n",
       "</div>"
      ],
      "text/plain": [
       "            id                                               text  richness\n",
       "23499  1270648  [urlLink, http, :, //www.sciencenews.org/, is,...         1\n",
       "23500  1270648  [is, there, any, other, sources, that, describ...  0.755556\n",
       "23501  1270648  [Yeah, ,, this, whole, field, is, quite, facin...  0.738739\n",
       "23502  1270648  [Actually, ,, my, comment, it, was, genuine, ....  0.824742\n",
       "23503  1270648  [Vlad, your, contempt, is, out, of, place, her...  0.717557"
      ]
     },
     "execution_count": 83,
     "metadata": {},
     "output_type": "execute_result"
    }
   ],
   "source": [
    "df.tail()"
   ]
  },
  {
   "cell_type": "code",
   "execution_count": 99,
   "metadata": {},
   "outputs": [],
   "source": [
    "sample = df[df['id'].isin(['1975546','1784456'])]"
   ]
  },
  {
   "cell_type": "code",
   "execution_count": 100,
   "metadata": {},
   "outputs": [
    {
     "data": {
      "text/html": [
       "<div>\n",
       "<style scoped>\n",
       "    .dataframe tbody tr th:only-of-type {\n",
       "        vertical-align: middle;\n",
       "    }\n",
       "\n",
       "    .dataframe tbody tr th {\n",
       "        vertical-align: top;\n",
       "    }\n",
       "\n",
       "    .dataframe thead th {\n",
       "        text-align: right;\n",
       "    }\n",
       "</style>\n",
       "<table border=\"1\" class=\"dataframe\">\n",
       "  <thead>\n",
       "    <tr style=\"text-align: right;\">\n",
       "      <th></th>\n",
       "      <th>id</th>\n",
       "      <th>text</th>\n",
       "      <th>richness</th>\n",
       "    </tr>\n",
       "  </thead>\n",
       "  <tbody>\n",
       "    <tr>\n",
       "      <th>10865</th>\n",
       "      <td>1784456</td>\n",
       "      <td>[Hey, Izzy, when, or, if, you, come, on, this,...</td>\n",
       "      <td>0.95</td>\n",
       "    </tr>\n",
       "    <tr>\n",
       "      <th>10866</th>\n",
       "      <td>1784456</td>\n",
       "      <td>[Msn, does, n't, work, ., It, 's, official, .,...</td>\n",
       "      <td>0.479042</td>\n",
       "    </tr>\n",
       "    <tr>\n",
       "      <th>10867</th>\n",
       "      <td>1784456</td>\n",
       "      <td>[Wow, ,, who, have, n't, I, been, blocked, by,...</td>\n",
       "      <td>0.909091</td>\n",
       "    </tr>\n",
       "    <tr>\n",
       "      <th>10868</th>\n",
       "      <td>1784456</td>\n",
       "      <td>[Umm, that, 's, a, que, for, the, new, templat...</td>\n",
       "      <td>1</td>\n",
       "    </tr>\n",
       "    <tr>\n",
       "      <th>10869</th>\n",
       "      <td>1784456</td>\n",
       "      <td>[Hmm, well, my, brothers, going, in, the, loft...</td>\n",
       "      <td>0.621849</td>\n",
       "    </tr>\n",
       "    <tr>\n",
       "      <th>...</th>\n",
       "      <td>...</td>\n",
       "      <td>...</td>\n",
       "      <td>...</td>\n",
       "    </tr>\n",
       "    <tr>\n",
       "      <th>21552</th>\n",
       "      <td>1975546</td>\n",
       "      <td>['We, declared, war, on, terrorits, not, even,...</td>\n",
       "      <td>0.875</td>\n",
       "    </tr>\n",
       "    <tr>\n",
       "      <th>21553</th>\n",
       "      <td>1975546</td>\n",
       "      <td>[Mir, has, informed, me, that, my, earlier, po...</td>\n",
       "      <td>0.786885</td>\n",
       "    </tr>\n",
       "    <tr>\n",
       "      <th>21554</th>\n",
       "      <td>1975546</td>\n",
       "      <td>[This, is, my, virgin, post, ,, so, I, thought...</td>\n",
       "      <td>0.75188</td>\n",
       "    </tr>\n",
       "    <tr>\n",
       "      <th>21555</th>\n",
       "      <td>1975546</td>\n",
       "      <td>[same, feed, from, before, ,, but, this, one, ...</td>\n",
       "      <td>0.54</td>\n",
       "    </tr>\n",
       "    <tr>\n",
       "      <th>21556</th>\n",
       "      <td>1975546</td>\n",
       "      <td>[i, 'm, still, running, this, story, down, ,, ...</td>\n",
       "      <td>0.633441</td>\n",
       "    </tr>\n",
       "  </tbody>\n",
       "</table>\n",
       "<p>4094 rows × 3 columns</p>\n",
       "</div>"
      ],
      "text/plain": [
       "            id                                               text  richness\n",
       "10865  1784456  [Hey, Izzy, when, or, if, you, come, on, this,...      0.95\n",
       "10866  1784456  [Msn, does, n't, work, ., It, 's, official, .,...  0.479042\n",
       "10867  1784456  [Wow, ,, who, have, n't, I, been, blocked, by,...  0.909091\n",
       "10868  1784456  [Umm, that, 's, a, que, for, the, new, templat...         1\n",
       "10869  1784456  [Hmm, well, my, brothers, going, in, the, loft...  0.621849\n",
       "...        ...                                                ...       ...\n",
       "21552  1975546  ['We, declared, war, on, terrorits, not, even,...     0.875\n",
       "21553  1975546  [Mir, has, informed, me, that, my, earlier, po...  0.786885\n",
       "21554  1975546  [This, is, my, virgin, post, ,, so, I, thought...   0.75188\n",
       "21555  1975546  [same, feed, from, before, ,, but, this, one, ...      0.54\n",
       "21556  1975546  [i, 'm, still, running, this, story, down, ,, ...  0.633441\n",
       "\n",
       "[4094 rows x 3 columns]"
      ]
     },
     "execution_count": 100,
     "metadata": {},
     "output_type": "execute_result"
    }
   ],
   "source": [
    "sample"
   ]
  },
  {
   "cell_type": "code",
   "execution_count": 101,
   "metadata": {},
   "outputs": [
    {
     "data": {
      "text/html": [
       "<div>\n",
       "<style scoped>\n",
       "    .dataframe tbody tr th:only-of-type {\n",
       "        vertical-align: middle;\n",
       "    }\n",
       "\n",
       "    .dataframe tbody tr th {\n",
       "        vertical-align: top;\n",
       "    }\n",
       "\n",
       "    .dataframe thead th {\n",
       "        text-align: right;\n",
       "    }\n",
       "</style>\n",
       "<table border=\"1\" class=\"dataframe\">\n",
       "  <thead>\n",
       "    <tr style=\"text-align: right;\">\n",
       "      <th></th>\n",
       "      <th>id</th>\n",
       "      <th>richness</th>\n",
       "    </tr>\n",
       "  </thead>\n",
       "  <tbody>\n",
       "    <tr>\n",
       "      <th>10865</th>\n",
       "      <td>1784456</td>\n",
       "      <td>0.95</td>\n",
       "    </tr>\n",
       "    <tr>\n",
       "      <th>10866</th>\n",
       "      <td>1784456</td>\n",
       "      <td>0.479042</td>\n",
       "    </tr>\n",
       "    <tr>\n",
       "      <th>10867</th>\n",
       "      <td>1784456</td>\n",
       "      <td>0.909091</td>\n",
       "    </tr>\n",
       "    <tr>\n",
       "      <th>10868</th>\n",
       "      <td>1784456</td>\n",
       "      <td>1</td>\n",
       "    </tr>\n",
       "    <tr>\n",
       "      <th>10869</th>\n",
       "      <td>1784456</td>\n",
       "      <td>0.621849</td>\n",
       "    </tr>\n",
       "    <tr>\n",
       "      <th>...</th>\n",
       "      <td>...</td>\n",
       "      <td>...</td>\n",
       "    </tr>\n",
       "    <tr>\n",
       "      <th>21552</th>\n",
       "      <td>1975546</td>\n",
       "      <td>0.875</td>\n",
       "    </tr>\n",
       "    <tr>\n",
       "      <th>21553</th>\n",
       "      <td>1975546</td>\n",
       "      <td>0.786885</td>\n",
       "    </tr>\n",
       "    <tr>\n",
       "      <th>21554</th>\n",
       "      <td>1975546</td>\n",
       "      <td>0.75188</td>\n",
       "    </tr>\n",
       "    <tr>\n",
       "      <th>21555</th>\n",
       "      <td>1975546</td>\n",
       "      <td>0.54</td>\n",
       "    </tr>\n",
       "    <tr>\n",
       "      <th>21556</th>\n",
       "      <td>1975546</td>\n",
       "      <td>0.633441</td>\n",
       "    </tr>\n",
       "  </tbody>\n",
       "</table>\n",
       "<p>4094 rows × 2 columns</p>\n",
       "</div>"
      ],
      "text/plain": [
       "            id  richness\n",
       "10865  1784456      0.95\n",
       "10866  1784456  0.479042\n",
       "10867  1784456  0.909091\n",
       "10868  1784456         1\n",
       "10869  1784456  0.621849\n",
       "...        ...       ...\n",
       "21552  1975546     0.875\n",
       "21553  1975546  0.786885\n",
       "21554  1975546   0.75188\n",
       "21555  1975546      0.54\n",
       "21556  1975546  0.633441\n",
       "\n",
       "[4094 rows x 2 columns]"
      ]
     },
     "execution_count": 101,
     "metadata": {},
     "output_type": "execute_result"
    }
   ],
   "source": [
    "data = pd.concat([sample['id'], sample['richness']], axis=1)\n",
    "data"
   ]
  },
  {
   "cell_type": "code",
   "execution_count": 102,
   "metadata": {},
   "outputs": [
    {
     "data": {
      "text/html": [
       "<div>\n",
       "<style scoped>\n",
       "    .dataframe tbody tr th:only-of-type {\n",
       "        vertical-align: middle;\n",
       "    }\n",
       "\n",
       "    .dataframe tbody tr th {\n",
       "        vertical-align: top;\n",
       "    }\n",
       "\n",
       "    .dataframe thead th {\n",
       "        text-align: right;\n",
       "    }\n",
       "</style>\n",
       "<table border=\"1\" class=\"dataframe\">\n",
       "  <thead>\n",
       "    <tr style=\"text-align: right;\">\n",
       "      <th></th>\n",
       "      <th>id</th>\n",
       "      <th>richness</th>\n",
       "      <th>value</th>\n",
       "    </tr>\n",
       "  </thead>\n",
       "  <tbody>\n",
       "    <tr>\n",
       "      <th>0</th>\n",
       "      <td>1784456</td>\n",
       "      <td>richness</td>\n",
       "      <td>0.95</td>\n",
       "    </tr>\n",
       "    <tr>\n",
       "      <th>1</th>\n",
       "      <td>1784456</td>\n",
       "      <td>richness</td>\n",
       "      <td>0.479042</td>\n",
       "    </tr>\n",
       "    <tr>\n",
       "      <th>2</th>\n",
       "      <td>1784456</td>\n",
       "      <td>richness</td>\n",
       "      <td>0.909091</td>\n",
       "    </tr>\n",
       "    <tr>\n",
       "      <th>3</th>\n",
       "      <td>1784456</td>\n",
       "      <td>richness</td>\n",
       "      <td>1</td>\n",
       "    </tr>\n",
       "    <tr>\n",
       "      <th>4</th>\n",
       "      <td>1784456</td>\n",
       "      <td>richness</td>\n",
       "      <td>0.621849</td>\n",
       "    </tr>\n",
       "    <tr>\n",
       "      <th>...</th>\n",
       "      <td>...</td>\n",
       "      <td>...</td>\n",
       "      <td>...</td>\n",
       "    </tr>\n",
       "    <tr>\n",
       "      <th>4089</th>\n",
       "      <td>1975546</td>\n",
       "      <td>richness</td>\n",
       "      <td>0.875</td>\n",
       "    </tr>\n",
       "    <tr>\n",
       "      <th>4090</th>\n",
       "      <td>1975546</td>\n",
       "      <td>richness</td>\n",
       "      <td>0.786885</td>\n",
       "    </tr>\n",
       "    <tr>\n",
       "      <th>4091</th>\n",
       "      <td>1975546</td>\n",
       "      <td>richness</td>\n",
       "      <td>0.75188</td>\n",
       "    </tr>\n",
       "    <tr>\n",
       "      <th>4092</th>\n",
       "      <td>1975546</td>\n",
       "      <td>richness</td>\n",
       "      <td>0.54</td>\n",
       "    </tr>\n",
       "    <tr>\n",
       "      <th>4093</th>\n",
       "      <td>1975546</td>\n",
       "      <td>richness</td>\n",
       "      <td>0.633441</td>\n",
       "    </tr>\n",
       "  </tbody>\n",
       "</table>\n",
       "<p>4094 rows × 3 columns</p>\n",
       "</div>"
      ],
      "text/plain": [
       "           id  richness     value\n",
       "0     1784456  richness      0.95\n",
       "1     1784456  richness  0.479042\n",
       "2     1784456  richness  0.909091\n",
       "3     1784456  richness         1\n",
       "4     1784456  richness  0.621849\n",
       "...       ...       ...       ...\n",
       "4089  1975546  richness     0.875\n",
       "4090  1975546  richness  0.786885\n",
       "4091  1975546  richness   0.75188\n",
       "4092  1975546  richness      0.54\n",
       "4093  1975546  richness  0.633441\n",
       "\n",
       "[4094 rows x 3 columns]"
      ]
     },
     "execution_count": 102,
     "metadata": {},
     "output_type": "execute_result"
    }
   ],
   "source": [
    "data = pd.melt(data, id_vars=\"id\",\n",
    "                      var_name=\"richness\",\n",
    "                        value_name='value')\n",
    "data"
   ]
  },
  {
   "cell_type": "code",
   "execution_count": 105,
   "metadata": {},
   "outputs": [
    {
     "data": {
      "text/plain": [
       "<seaborn.axisgrid.FacetGrid at 0x26c2de70>"
      ]
     },
     "execution_count": 105,
     "metadata": {},
     "output_type": "execute_result"
    },
    {
     "data": {
      "image/png": "[encoded data removed]",
      "text/plain": [
       "<Figure size 440.5x360 with 1 Axes>"
      ]
     },
     "metadata": {
      "needs_background": "light"
     },
     "output_type": "display_data"
    }
   ],
   "source": [
    "sns.catplot(x=\"richness\", y=\"value\", hue=\"id\", data=data, kind=\"box\")"
   ]
  },
  {
   "cell_type": "code",
   "execution_count": 112,
   "metadata": {},
   "outputs": [],
   "source": [
    "df['wldist'] = '0'\n",
    "\n",
    "for i in range(len(df)):\n",
    "    df.loc[i] = [df.loc[i].id, df.loc[i].text, df.loc[i].richness, FreqDist(len(w) for w in df.loc[i].text)]"
   ]
  },
  {
   "cell_type": "code",
   "execution_count": 113,
   "metadata": {},
   "outputs": [
    {
     "data": {
      "text/html": [
       "<div>\n",
       "<style scoped>\n",
       "    .dataframe tbody tr th:only-of-type {\n",
       "        vertical-align: middle;\n",
       "    }\n",
       "\n",
       "    .dataframe tbody tr th {\n",
       "        vertical-align: top;\n",
       "    }\n",
       "\n",
       "    .dataframe thead th {\n",
       "        text-align: right;\n",
       "    }\n",
       "</style>\n",
       "<table border=\"1\" class=\"dataframe\">\n",
       "  <thead>\n",
       "    <tr style=\"text-align: right;\">\n",
       "      <th></th>\n",
       "      <th>id</th>\n",
       "      <th>text</th>\n",
       "      <th>richness</th>\n",
       "      <th>wldist</th>\n",
       "    </tr>\n",
       "  </thead>\n",
       "  <tbody>\n",
       "    <tr>\n",
       "      <th>0</th>\n",
       "      <td>589736</td>\n",
       "      <td>[Much, funny, ., 2, points, ., As, mentioned, ...</td>\n",
       "      <td>0.787234</td>\n",
       "      <td>{4: 10, 5: 5, 1: 13, 6: 2, 2: 6, 9: 2, 3: 4, 8...</td>\n",
       "    </tr>\n",
       "    <tr>\n",
       "      <th>1</th>\n",
       "      <td>589736</td>\n",
       "      <td>[Harpers, ,, Harpers, ,, everywhere, ., Harper...</td>\n",
       "      <td>0.44086</td>\n",
       "      <td>{7: 21, 1: 42, 10: 1, 4: 8, 6: 4, 2: 7, 5: 5, ...</td>\n",
       "    </tr>\n",
       "    <tr>\n",
       "      <th>2</th>\n",
       "      <td>589736</td>\n",
       "      <td>[In, an, earlier, post, ,, Johnathan, said, :,...</td>\n",
       "      <td>0.504587</td>\n",
       "      <td>{2: 65, 7: 15, 4: 60, 1: 52, 9: 6, 6: 18, 3: 5...</td>\n",
       "    </tr>\n",
       "    <tr>\n",
       "      <th>3</th>\n",
       "      <td>589736</td>\n",
       "      <td>[I, 'd, post, this, on, the, RTG, Blog, ,, but...</td>\n",
       "      <td>0.55641</td>\n",
       "      <td>{1: 55, 2: 71, 4: 49, 3: 83, 5: 24, 7: 23, 6: ...</td>\n",
       "    </tr>\n",
       "    <tr>\n",
       "      <th>4</th>\n",
       "      <td>589736</td>\n",
       "      <td>[The, answer, to, the, first, question, lies, ...</td>\n",
       "      <td>0.827586</td>\n",
       "      <td>{3: 6, 6: 5, 2: 4, 5: 3, 8: 2, 4: 4, 1: 3, 9: ...</td>\n",
       "    </tr>\n",
       "  </tbody>\n",
       "</table>\n",
       "</div>"
      ],
      "text/plain": [
       "       id                                               text  richness  \\\n",
       "0  589736  [Much, funny, ., 2, points, ., As, mentioned, ...  0.787234   \n",
       "1  589736  [Harpers, ,, Harpers, ,, everywhere, ., Harper...   0.44086   \n",
       "2  589736  [In, an, earlier, post, ,, Johnathan, said, :,...  0.504587   \n",
       "3  589736  [I, 'd, post, this, on, the, RTG, Blog, ,, but...   0.55641   \n",
       "4  589736  [The, answer, to, the, first, question, lies, ...  0.827586   \n",
       "\n",
       "                                              wldist  \n",
       "0  {4: 10, 5: 5, 1: 13, 6: 2, 2: 6, 9: 2, 3: 4, 8...  \n",
       "1  {7: 21, 1: 42, 10: 1, 4: 8, 6: 4, 2: 7, 5: 5, ...  \n",
       "2  {2: 65, 7: 15, 4: 60, 1: 52, 9: 6, 6: 18, 3: 5...  \n",
       "3  {1: 55, 2: 71, 4: 49, 3: 83, 5: 24, 7: 23, 6: ...  \n",
       "4  {3: 6, 6: 5, 2: 4, 5: 3, 8: 2, 4: 4, 1: 3, 9: ...  "
      ]
     },
     "execution_count": 113,
     "metadata": {},
     "output_type": "execute_result"
    }
   ],
   "source": [
    "df.head()"
   ]
  },
  {
   "cell_type": "code",
   "execution_count": 118,
   "metadata": {},
   "outputs": [],
   "source": [
    "fqd = df.loc[0].wldist"
   ]
  },
  {
   "cell_type": "code",
   "execution_count": 121,
   "metadata": {},
   "outputs": [],
   "source": [
    "import matplotlib.pyplot as pltplot"
   ]
  },
  {
   "cell_type": "code",
   "execution_count": 124,
   "metadata": {},
   "outputs": [
    {
     "data": {
      "image/png": "[encoded data removed]",
      "text/plain": [
       "<Figure size 432x288 with 1 Axes>"
      ]
     },
     "metadata": {
      "needs_background": "light"
     },
     "output_type": "display_data"
    }
   ],
   "source": [
    "pltplot.bar(*zip(*sorted(fqd.items())))\n",
    "pltplot.show()"
   ]
  },
  {
   "cell_type": "code",
   "execution_count": 127,
   "metadata": {},
   "outputs": [
    {
     "data": {
      "text/plain": [
       "[(1, 13),\n",
       " (4, 10),\n",
       " (2, 6),\n",
       " (5, 5),\n",
       " (3, 4),\n",
       " (6, 2),\n",
       " (9, 2),\n",
       " (8, 2),\n",
       " (7, 2),\n",
       " (13, 1)]"
      ]
     },
     "execution_count": 127,
     "metadata": {},
     "output_type": "execute_result"
    }
   ],
   "source": [
    "fqd.most_common()"
   ]
  },
  {
   "cell_type": "code",
   "execution_count": null,
   "metadata": {},
   "outputs": [],
   "source": []
  }
 ],
 "metadata": {
  "kernelspec": {
   "display_name": "Python 3",
   "language": "python",
   "name": "python3"
  },
  "language_info": {
   "codemirror_mode": {
    "name": "ipython",
    "version": 3
   },
   "file_extension": ".py",
   "mimetype": "text/x-python",
   "name": "python",
   "nbconvert_exporter": "python",
   "pygments_lexer": "ipython3",
   "version": "3.7.6"
  }
 },
 "nbformat": 4,
 "nbformat_minor": 4
}
