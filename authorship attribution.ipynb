{
 "cells": [
  {
   "cell_type": "markdown",
   "metadata": {},
   "source": [
    "# Project: authorship attribution\n",
    "\n",
    "## by: Dekel Mor, Matan Ramati\n",
    "\n",
    "\n",
    "in this project, The problem is supervised text classification problem, and our goal is to investigate which supervised machine learning methods are best suited to solve it. our purpose is to classify a text to the most fitting author from number of authors.\n",
    "This is multi-class text classification problem.\n",
    "\n",
    "in order to solve our problem we will make research to accomplish a few targets: \n",
    "* identify useful features from texts\n",
    "* finding efficient ways to extract that features \n",
    "* explore algorithms to find the most suitable and accurate one for the task\n",
    "\n",
    "The authorship attribution tool can be useful and powerful. until now we had facial recognition, voice recognition, and fingerprint recognition, all of these cant help when you're stuck with a piece of text.\n",
    "examples for interesting uses: identify impersonators, recognize criminals by text evidence, protect intellectual property, etc.\n",
    "\n",
    "the Data will be an array that contains an array of text words and labels (author name).\n",
    "the source of the data can be Facebook posts, letters, opinion pieces, and other texts that are not in strict formal form.\n",
    "\n"
   ]
  },
  {
   "cell_type": "markdown",
   "metadata": {},
   "source": [
    "our required data is a collection of pairs that contains rich text(not formally, because we want to find differences) and the text author identification.\n",
    "because we wand to classify the text to his author.\n",
    "\n",
    "we chose to use blog posts data set from here:\n",
    "https://www.kaggle.com/rtatman/blog-authorship-corpus\n",
    "\n",
    "the blog posts data set is too big and have too many authors so we to just a sample of 2000 blog posts.\n",
    "\n",
    "\n",
    "\n",
    "example for text importing and pre process of the data(specifically blog posts):"
   ]
  },
  {
   "cell_type": "code",
   "execution_count": 50,
   "metadata": {},
   "outputs": [],
   "source": [
    "import nltk\n",
    "import pandas as pd\n",
    "import numpy as np\n",
    "import matplotlib as plt\n",
    "import sklearn as skl\n",
    "import random \n",
    "from nltk import NaiveBayesClassifier\n",
    "from sklearn.linear_model import LogisticRegression\n",
    "from sklearn.ensemble import RandomForestClassifier\n",
    "from sklearn.svm import LinearSVC\n",
    "from sklearn.model_selection import cross_val_score\n",
    "from sklearn.feature_extraction.text import CountVectorizer\n",
    "from sklearn.naive_bayes import MultinomialNB\n",
    "from sklearn.model_selection import train_test_split\n",
    "from sklearn.metrics import accuracy_score\n",
    "from nltk.tokenize import TweetTokenizer\n",
    "from nltk.corpus import stopwords \n",
    "from sklearn.feature_extraction.text import TfidfVectorizer"
   ]
  },
  {
   "cell_type": "code",
   "execution_count": 2,
   "metadata": {},
   "outputs": [],
   "source": [
    "dataset = pd.read_csv('blogtext.csv', delimiter=',', nrows=50000)"
   ]
  },
  {
   "cell_type": "code",
   "execution_count": 3,
   "metadata": {},
   "outputs": [
    {
     "data": {
      "text/html": [
       "<div>\n",
       "<style scoped>\n",
       "    .dataframe tbody tr th:only-of-type {\n",
       "        vertical-align: middle;\n",
       "    }\n",
       "\n",
       "    .dataframe tbody tr th {\n",
       "        vertical-align: top;\n",
       "    }\n",
       "\n",
       "    .dataframe thead th {\n",
       "        text-align: right;\n",
       "    }\n",
       "</style>\n",
       "<table border=\"1\" class=\"dataframe\">\n",
       "  <thead>\n",
       "    <tr style=\"text-align: right;\">\n",
       "      <th></th>\n",
       "      <th>id</th>\n",
       "      <th>gender</th>\n",
       "      <th>age</th>\n",
       "      <th>topic</th>\n",
       "      <th>sign</th>\n",
       "      <th>date</th>\n",
       "      <th>text</th>\n",
       "    </tr>\n",
       "  </thead>\n",
       "  <tbody>\n",
       "    <tr>\n",
       "      <th>0</th>\n",
       "      <td>2059027</td>\n",
       "      <td>male</td>\n",
       "      <td>15</td>\n",
       "      <td>Student</td>\n",
       "      <td>Leo</td>\n",
       "      <td>14,May,2004</td>\n",
       "      <td>Info has been found (+/- 100 pages,...</td>\n",
       "    </tr>\n",
       "    <tr>\n",
       "      <th>1</th>\n",
       "      <td>2059027</td>\n",
       "      <td>male</td>\n",
       "      <td>15</td>\n",
       "      <td>Student</td>\n",
       "      <td>Leo</td>\n",
       "      <td>13,May,2004</td>\n",
       "      <td>These are the team members:   Drewe...</td>\n",
       "    </tr>\n",
       "    <tr>\n",
       "      <th>2</th>\n",
       "      <td>2059027</td>\n",
       "      <td>male</td>\n",
       "      <td>15</td>\n",
       "      <td>Student</td>\n",
       "      <td>Leo</td>\n",
       "      <td>12,May,2004</td>\n",
       "      <td>In het kader van kernfusie op aarde...</td>\n",
       "    </tr>\n",
       "    <tr>\n",
       "      <th>3</th>\n",
       "      <td>2059027</td>\n",
       "      <td>male</td>\n",
       "      <td>15</td>\n",
       "      <td>Student</td>\n",
       "      <td>Leo</td>\n",
       "      <td>12,May,2004</td>\n",
       "      <td>testing!!!  testing!!!</td>\n",
       "    </tr>\n",
       "    <tr>\n",
       "      <th>4</th>\n",
       "      <td>3581210</td>\n",
       "      <td>male</td>\n",
       "      <td>33</td>\n",
       "      <td>InvestmentBanking</td>\n",
       "      <td>Aquarius</td>\n",
       "      <td>11,June,2004</td>\n",
       "      <td>Thanks to Yahoo!'s Toolbar I can ...</td>\n",
       "    </tr>\n",
       "  </tbody>\n",
       "</table>\n",
       "</div>"
      ],
      "text/plain": [
       "        id gender  age              topic      sign          date  \\\n",
       "0  2059027   male   15            Student       Leo   14,May,2004   \n",
       "1  2059027   male   15            Student       Leo   13,May,2004   \n",
       "2  2059027   male   15            Student       Leo   12,May,2004   \n",
       "3  2059027   male   15            Student       Leo   12,May,2004   \n",
       "4  3581210   male   33  InvestmentBanking  Aquarius  11,June,2004   \n",
       "\n",
       "                                                text  \n",
       "0             Info has been found (+/- 100 pages,...  \n",
       "1             These are the team members:   Drewe...  \n",
       "2             In het kader van kernfusie op aarde...  \n",
       "3                   testing!!!  testing!!!            \n",
       "4               Thanks to Yahoo!'s Toolbar I can ...  "
      ]
     },
     "execution_count": 3,
     "metadata": {},
     "output_type": "execute_result"
    }
   ],
   "source": [
    "dataset.head()"
   ]
  },
  {
   "cell_type": "code",
   "execution_count": 4,
   "metadata": {},
   "outputs": [
    {
     "data": {
      "text/plain": [
       "589736     2294\n",
       "883178     1616\n",
       "988941     1542\n",
       "546850      931\n",
       "1713442     798\n",
       "888601      778\n",
       "3211137     630\n",
       "2821801     605\n",
       "1103575     558\n",
       "766556      532\n",
       "1926378     473\n",
       "727002      472\n",
       "1538911     447\n",
       "152151      436\n",
       "1939766     407\n",
       "1098541     339\n",
       "299143      328\n",
       "3581446     315\n",
       "480727      312\n",
       "3169212     309\n",
       "Name: id, dtype: int64"
      ]
     },
     "execution_count": 4,
     "metadata": {},
     "output_type": "execute_result"
    }
   ],
   "source": [
    "# the top 20 authors by number of posts, and the number of posts\n",
    "dataset['id'].value_counts()[:20]"
   ]
  },
  {
   "cell_type": "code",
   "execution_count": 5,
   "metadata": {},
   "outputs": [],
   "source": [
    "author_list = dataset['id'].value_counts()[:20].index.tolist()"
   ]
  },
  {
   "cell_type": "code",
   "execution_count": 6,
   "metadata": {},
   "outputs": [],
   "source": [
    "# drop the authors who doesnt in the top 20 list\n",
    "dataset = dataset[dataset['id'].isin(author_list)]"
   ]
  },
  {
   "cell_type": "code",
   "execution_count": 7,
   "metadata": {},
   "outputs": [
    {
     "data": {
      "text/plain": [
       "Text(0.5, 0, 'author id')"
      ]
     },
     "execution_count": 7,
     "metadata": {},
     "output_type": "execute_result"
    },
    {
     "data": {
      "image/png": "[encoded data removed]",
      "text/plain": [
       "<Figure size 864x720 with 1 Axes>"
      ]
     },
     "metadata": {
      "needs_background": "light"
     },
     "output_type": "display_data"
    }
   ],
   "source": [
    "text_group = dataset.groupby('id')\n",
    "ax=text_group['id'].aggregate(len).plot(kind='bar', fontsize=14, figsize=(12,10))\n",
    "ax.set_title('posts per author', fontsize=20)\n",
    "ax.set_ylabel('Number of posts', fontsize=18)\n",
    "ax.set_xlabel('author id', fontsize=18)"
   ]
  },
  {
   "cell_type": "code",
   "execution_count": 25,
   "metadata": {},
   "outputs": [
    {
     "data": {
      "text/plain": [
       "Text(0.5, 0, 'topic')"
      ]
     },
     "execution_count": 25,
     "metadata": {},
     "output_type": "execute_result"
    },
    {
     "data": {
      "image/png": "[encoded data removed]",
      "text/plain": [
       "<Figure size 864x720 with 1 Axes>"
      ]
     },
     "metadata": {
      "needs_background": "light"
     },
     "output_type": "display_data"
    }
   ],
   "source": [
    "text_group = dataset.groupby('topic')\n",
    "ax=text_group['topic'].aggregate(len).plot(kind='bar', fontsize=14, figsize=(12,10))\n",
    "ax.set_title('posts per topic', fontsize=20)\n",
    "ax.set_ylabel('Number of posts', fontsize=18)\n",
    "ax.set_xlabel('topic', fontsize=18)"
   ]
  },
  {
   "cell_type": "code",
   "execution_count": 9,
   "metadata": {},
   "outputs": [],
   "source": [
    "dataset.reset_index(drop=True, inplace=True)"
   ]
  },
  {
   "cell_type": "code",
   "execution_count": 10,
   "metadata": {},
   "outputs": [],
   "source": [
    "df = pd.DataFrame(columns=[\"id\", \"text\", \"topic\"])"
   ]
  },
  {
   "cell_type": "markdown",
   "metadata": {},
   "source": [
    "breaking the text to word tokens:"
   ]
  },
  {
   "cell_type": "code",
   "execution_count": 11,
   "metadata": {},
   "outputs": [],
   "source": [
    "tweet_tok = TweetTokenizer(preserve_case=False)\n",
    "for i in range(len(dataset)):\n",
    "    df.loc[i] = [dataset.loc[i].id, tweet_tok.tokenize(dataset.loc[i].text), dataset.loc[i].topic]"
   ]
  },
  {
   "cell_type": "code",
   "execution_count": 12,
   "metadata": {},
   "outputs": [
    {
     "data": {
      "text/html": [
       "<div>\n",
       "<style scoped>\n",
       "    .dataframe tbody tr th:only-of-type {\n",
       "        vertical-align: middle;\n",
       "    }\n",
       "\n",
       "    .dataframe tbody tr th {\n",
       "        vertical-align: top;\n",
       "    }\n",
       "\n",
       "    .dataframe thead th {\n",
       "        text-align: right;\n",
       "    }\n",
       "</style>\n",
       "<table border=\"1\" class=\"dataframe\">\n",
       "  <thead>\n",
       "    <tr style=\"text-align: right;\">\n",
       "      <th></th>\n",
       "      <th>id</th>\n",
       "      <th>text</th>\n",
       "      <th>topic</th>\n",
       "    </tr>\n",
       "  </thead>\n",
       "  <tbody>\n",
       "    <tr>\n",
       "      <th>0</th>\n",
       "      <td>589736</td>\n",
       "      <td>[much, funny, ., 2, points, ., as, mentioned, ...</td>\n",
       "      <td>Technology</td>\n",
       "    </tr>\n",
       "    <tr>\n",
       "      <th>1</th>\n",
       "      <td>589736</td>\n",
       "      <td>[harpers, ,, harpers, ,, everywhere, ., harper...</td>\n",
       "      <td>Technology</td>\n",
       "    </tr>\n",
       "    <tr>\n",
       "      <th>2</th>\n",
       "      <td>589736</td>\n",
       "      <td>[in, an, earlier, post, ,, johnathan, said, :,...</td>\n",
       "      <td>Technology</td>\n",
       "    </tr>\n",
       "    <tr>\n",
       "      <th>3</th>\n",
       "      <td>589736</td>\n",
       "      <td>[i'd, post, this, on, the, rtg, blog, ,, but, ...</td>\n",
       "      <td>Technology</td>\n",
       "    </tr>\n",
       "    <tr>\n",
       "      <th>4</th>\n",
       "      <td>589736</td>\n",
       "      <td>[the, answer, to, the, first, question, lies, ...</td>\n",
       "      <td>Technology</td>\n",
       "    </tr>\n",
       "    <tr>\n",
       "      <th>...</th>\n",
       "      <td>...</td>\n",
       "      <td>...</td>\n",
       "      <td>...</td>\n",
       "    </tr>\n",
       "    <tr>\n",
       "      <th>14117</th>\n",
       "      <td>988941</td>\n",
       "      <td>[i'm, dying, from, lack, of, sleep, ., got, wo...</td>\n",
       "      <td>Student</td>\n",
       "    </tr>\n",
       "    <tr>\n",
       "      <th>14118</th>\n",
       "      <td>988941</td>\n",
       "      <td>[saw, king, arthur, last, night, ., thumbs, up...</td>\n",
       "      <td>Student</td>\n",
       "    </tr>\n",
       "    <tr>\n",
       "      <th>14119</th>\n",
       "      <td>988941</td>\n",
       "      <td>[i, was, topless, around, 20, mins, ago, ., ha...</td>\n",
       "      <td>Student</td>\n",
       "    </tr>\n",
       "    <tr>\n",
       "      <th>14120</th>\n",
       "      <td>988941</td>\n",
       "      <td>[well, well, i'm, not, topless, so, neeeeeeeee...</td>\n",
       "      <td>Student</td>\n",
       "    </tr>\n",
       "    <tr>\n",
       "      <th>14121</th>\n",
       "      <td>988941</td>\n",
       "      <td>[i, am, currently, topless, ., contreversial]</td>\n",
       "      <td>Student</td>\n",
       "    </tr>\n",
       "  </tbody>\n",
       "</table>\n",
       "<p>14122 rows × 3 columns</p>\n",
       "</div>"
      ],
      "text/plain": [
       "           id                                               text       topic\n",
       "0      589736  [much, funny, ., 2, points, ., as, mentioned, ...  Technology\n",
       "1      589736  [harpers, ,, harpers, ,, everywhere, ., harper...  Technology\n",
       "2      589736  [in, an, earlier, post, ,, johnathan, said, :,...  Technology\n",
       "3      589736  [i'd, post, this, on, the, rtg, blog, ,, but, ...  Technology\n",
       "4      589736  [the, answer, to, the, first, question, lies, ...  Technology\n",
       "...       ...                                                ...         ...\n",
       "14117  988941  [i'm, dying, from, lack, of, sleep, ., got, wo...     Student\n",
       "14118  988941  [saw, king, arthur, last, night, ., thumbs, up...     Student\n",
       "14119  988941  [i, was, topless, around, 20, mins, ago, ., ha...     Student\n",
       "14120  988941  [well, well, i'm, not, topless, so, neeeeeeeee...     Student\n",
       "14121  988941      [i, am, currently, topless, ., contreversial]     Student\n",
       "\n",
       "[14122 rows x 3 columns]"
      ]
     },
     "execution_count": 12,
     "metadata": {},
     "output_type": "execute_result"
    }
   ],
   "source": [
    "df"
   ]
  },
  {
   "cell_type": "markdown",
   "metadata": {},
   "source": [
    "filter stopwords(\"i\" \"and\" \"it\" etc) and short tokens(with lengh = 1)"
   ]
  },
  {
   "cell_type": "code",
   "execution_count": 13,
   "metadata": {},
   "outputs": [],
   "source": [
    "stop_words = set(stopwords.words('english'))\n",
    "\n",
    "for i in range(len(df)):\n",
    "    df.loc[i].text = [x for x in df.loc[i].text if x not in stop_words and len(x) > 1]  "
   ]
  },
  {
   "cell_type": "code",
   "execution_count": 14,
   "metadata": {},
   "outputs": [
    {
     "data": {
      "text/html": [
       "<div>\n",
       "<style scoped>\n",
       "    .dataframe tbody tr th:only-of-type {\n",
       "        vertical-align: middle;\n",
       "    }\n",
       "\n",
       "    .dataframe tbody tr th {\n",
       "        vertical-align: top;\n",
       "    }\n",
       "\n",
       "    .dataframe thead th {\n",
       "        text-align: right;\n",
       "    }\n",
       "</style>\n",
       "<table border=\"1\" class=\"dataframe\">\n",
       "  <thead>\n",
       "    <tr style=\"text-align: right;\">\n",
       "      <th></th>\n",
       "      <th>id</th>\n",
       "      <th>text</th>\n",
       "      <th>topic</th>\n",
       "    </tr>\n",
       "  </thead>\n",
       "  <tbody>\n",
       "    <tr>\n",
       "      <th>0</th>\n",
       "      <td>589736</td>\n",
       "      <td>[much, funny, points, mentioned, email, game, ...</td>\n",
       "      <td>Technology</td>\n",
       "    </tr>\n",
       "    <tr>\n",
       "      <th>1</th>\n",
       "      <td>589736</td>\n",
       "      <td>[harpers, harpers, everywhere, harpers, harper...</td>\n",
       "      <td>Technology</td>\n",
       "    </tr>\n",
       "    <tr>\n",
       "      <th>2</th>\n",
       "      <td>589736</td>\n",
       "      <td>[earlier, post, johnathan, said, gregory, feel...</td>\n",
       "      <td>Technology</td>\n",
       "    </tr>\n",
       "    <tr>\n",
       "      <th>3</th>\n",
       "      <td>589736</td>\n",
       "      <td>[i'd, post, rtg, blog, can't, post, could, som...</td>\n",
       "      <td>Technology</td>\n",
       "    </tr>\n",
       "    <tr>\n",
       "      <th>4</th>\n",
       "      <td>589736</td>\n",
       "      <td>[answer, first, question, lies, master, Po;, a...</td>\n",
       "      <td>Technology</td>\n",
       "    </tr>\n",
       "    <tr>\n",
       "      <th>...</th>\n",
       "      <td>...</td>\n",
       "      <td>...</td>\n",
       "      <td>...</td>\n",
       "    </tr>\n",
       "    <tr>\n",
       "      <th>14117</th>\n",
       "      <td>988941</td>\n",
       "      <td>[i'm, dying, lack, sleep, got, woken, 9:45, to...</td>\n",
       "      <td>Student</td>\n",
       "    </tr>\n",
       "    <tr>\n",
       "      <th>14118</th>\n",
       "      <td>988941</td>\n",
       "      <td>[saw, king, arthur, last, night, thumbs, broug...</td>\n",
       "      <td>Student</td>\n",
       "    </tr>\n",
       "    <tr>\n",
       "      <th>14119</th>\n",
       "      <td>988941</td>\n",
       "      <td>[topless, around, 20, mins, ago, hard, day, to...</td>\n",
       "      <td>Student</td>\n",
       "    </tr>\n",
       "    <tr>\n",
       "      <th>14120</th>\n",
       "      <td>988941</td>\n",
       "      <td>[well, well, i'm, topless, neeeeeeeeeeeeeeeeee...</td>\n",
       "      <td>Student</td>\n",
       "    </tr>\n",
       "    <tr>\n",
       "      <th>14121</th>\n",
       "      <td>988941</td>\n",
       "      <td>[currently, topless, contreversial]</td>\n",
       "      <td>Student</td>\n",
       "    </tr>\n",
       "  </tbody>\n",
       "</table>\n",
       "<p>14122 rows × 3 columns</p>\n",
       "</div>"
      ],
      "text/plain": [
       "           id                                               text       topic\n",
       "0      589736  [much, funny, points, mentioned, email, game, ...  Technology\n",
       "1      589736  [harpers, harpers, everywhere, harpers, harper...  Technology\n",
       "2      589736  [earlier, post, johnathan, said, gregory, feel...  Technology\n",
       "3      589736  [i'd, post, rtg, blog, can't, post, could, som...  Technology\n",
       "4      589736  [answer, first, question, lies, master, Po;, a...  Technology\n",
       "...       ...                                                ...         ...\n",
       "14117  988941  [i'm, dying, lack, sleep, got, woken, 9:45, to...     Student\n",
       "14118  988941  [saw, king, arthur, last, night, thumbs, broug...     Student\n",
       "14119  988941  [topless, around, 20, mins, ago, hard, day, to...     Student\n",
       "14120  988941  [well, well, i'm, topless, neeeeeeeeeeeeeeeeee...     Student\n",
       "14121  988941                [currently, topless, contreversial]     Student\n",
       "\n",
       "[14122 rows x 3 columns]"
      ]
     },
     "execution_count": 14,
     "metadata": {},
     "output_type": "execute_result"
    }
   ],
   "source": [
    "df"
   ]
  },
  {
   "cell_type": "markdown",
   "metadata": {},
   "source": [
    "as part of the research for the project we will try to find more useful features and check how much they contribute to the author prediction.\n",
    "frequently words, Frequent use of syntax type and etc."
   ]
  },
  {
   "cell_type": "code",
   "execution_count": 15,
   "metadata": {},
   "outputs": [],
   "source": [
    "Xfeatures = df['text']\n",
    "ylabels = df['id']"
   ]
  },
  {
   "cell_type": "code",
   "execution_count": 16,
   "metadata": {},
   "outputs": [],
   "source": [
    "cv = CountVectorizer(tokenizer=lambda doc: doc, lowercase=False)\n",
    "X = cv.fit_transform(Xfeatures)"
   ]
  },
  {
   "cell_type": "code",
   "execution_count": 17,
   "metadata": {},
   "outputs": [],
   "source": [
    "x_train,x_test,y_train,y_test = train_test_split(X,ylabels,test_size=0.16,random_state=42)"
   ]
  },
  {
   "cell_type": "code",
   "execution_count": 18,
   "metadata": {},
   "outputs": [
    {
     "data": {
      "text/plain": [
       "(11862, 62406)"
      ]
     },
     "execution_count": 18,
     "metadata": {},
     "output_type": "execute_result"
    }
   ],
   "source": [
    "x_train.shape"
   ]
  },
  {
   "cell_type": "code",
   "execution_count": 19,
   "metadata": {},
   "outputs": [
    {
     "data": {
      "text/plain": [
       "MultinomialNB(alpha=1.0, class_prior=None, fit_prior=True)"
      ]
     },
     "execution_count": 19,
     "metadata": {},
     "output_type": "execute_result"
    }
   ],
   "source": [
    "y_train = y_train.astype('int')\n",
    "y_test = y_test.astype('int')\n",
    "clf = MultinomialNB()\n",
    "clf.fit(x_train,y_train)"
   ]
  },
  {
   "cell_type": "code",
   "execution_count": 20,
   "metadata": {},
   "outputs": [
    {
     "name": "stdout",
     "output_type": "stream",
     "text": [
      "Accuracy of Model : 0.6092920353982301\n"
     ]
    }
   ],
   "source": [
    "print(\"Accuracy of Model :\",clf.score(x_test,y_test))"
   ]
  },
  {
   "cell_type": "code",
   "execution_count": 21,
   "metadata": {},
   "outputs": [
    {
     "name": "stderr",
     "output_type": "stream",
     "text": [
      "C:\\Users\\ramat\\anaconda3\\lib\\site-packages\\sklearn\\linear_model\\logistic.py:432: FutureWarning: Default solver will be changed to 'lbfgs' in 0.22. Specify a solver to silence this warning.\n",
      "  FutureWarning)\n",
      "C:\\Users\\ramat\\anaconda3\\lib\\site-packages\\sklearn\\linear_model\\logistic.py:469: FutureWarning: Default multi_class will be changed to 'auto' in 0.22. Specify the multi_class option to silence this warning.\n",
      "  \"this warning.\", FutureWarning)\n"
     ]
    },
    {
     "data": {
      "text/plain": [
       "LogisticRegression(C=1.0, class_weight=None, dual=False, fit_intercept=True,\n",
       "                   intercept_scaling=1, l1_ratio=None, max_iter=100,\n",
       "                   multi_class='warn', n_jobs=None, penalty='l2',\n",
       "                   random_state=None, solver='warn', tol=0.0001, verbose=0,\n",
       "                   warm_start=False)"
      ]
     },
     "execution_count": 21,
     "metadata": {},
     "output_type": "execute_result"
    }
   ],
   "source": [
    "logit = LogisticRegression(random_state=0, multi_class=\"auto\", solver='lbfgs')\n",
    "logit.fit(x_train,y_train)"
   ]
  },
  {
   "cell_type": "code",
   "execution_count": 22,
   "metadata": {},
   "outputs": [
    {
     "name": "stdout",
     "output_type": "stream",
     "text": [
      "Accuracy of Logit Model : 0.7628318584070797\n"
     ]
    }
   ],
   "source": [
    "print(\"Accuracy of Logit Model :\",logit.score(x_test,y_test))"
   ]
  },
  {
   "cell_type": "markdown",
   "metadata": {},
   "source": [
    "## another way to find the best classifier(on smaller part of the dataset, for lack of memory reasons): "
   ]
  },
  {
   "cell_type": "code",
   "execution_count": 46,
   "metadata": {},
   "outputs": [],
   "source": [
    "from sklearn.utils import shuffle\n",
    "sample = dataset[5000:10000]\n",
    "sample = shuffle(sample)"
   ]
  },
  {
   "cell_type": "code",
   "execution_count": 47,
   "metadata": {},
   "outputs": [],
   "source": [
    "sample_author_list = sample['id'].value_counts()[1:10].index.tolist()\n",
    "sample = sample[sample['id'].isin(sample_author_list)]\n",
    "sample = sample[:1000]"
   ]
  },
  {
   "cell_type": "code",
   "execution_count": 48,
   "metadata": {},
   "outputs": [
    {
     "data": {
      "text/plain": [
       "3211137    160\n",
       "883178     145\n",
       "1926378    122\n",
       "727002     118\n",
       "1538911    115\n",
       "1939766    102\n",
       "3581446     84\n",
       "480727      77\n",
       "299143      77\n",
       "Name: id, dtype: int64"
      ]
     },
     "execution_count": 48,
     "metadata": {},
     "output_type": "execute_result"
    }
   ],
   "source": [
    "sample['id'].value_counts()"
   ]
  },
  {
   "cell_type": "code",
   "execution_count": 49,
   "metadata": {},
   "outputs": [
    {
     "data": {
      "text/plain": [
       "(1000, 2624)"
      ]
     },
     "execution_count": 49,
     "metadata": {},
     "output_type": "execute_result"
    }
   ],
   "source": [
    "tfidf = TfidfVectorizer(sublinear_tf=True, min_df=5, norm='l2', encoding='latin-1', ngram_range=(1, 2), stop_words='english')\n",
    "features = tfidf.fit_transform(sample.text).toarray()\n",
    "labels = sample.id\n",
    "features.shape"
   ]
  },
  {
   "cell_type": "code",
   "execution_count": 51,
   "metadata": {},
   "outputs": [
    {
     "data": {
      "image/png": "[encoded data removed]",
      "text/plain": [
       "<Figure size 432x288 with 1 Axes>"
      ]
     },
     "metadata": {
      "needs_background": "light"
     },
     "output_type": "display_data"
    }
   ],
   "source": [
    "models = [\n",
    "    RandomForestClassifier(n_estimators=200, max_depth=3, random_state=0),\n",
    "    LinearSVC(),\n",
    "    MultinomialNB(),\n",
    "    LogisticRegression(random_state=0, multi_class=\"auto\", solver='lbfgs'),\n",
    "]\n",
    "CV = 5\n",
    "cv_df = pd.DataFrame(index=range(CV * len(models)))\n",
    "entries = []\n",
    "for model in models:\n",
    "  model_name = model.__class__.__name__\n",
    "  accuracies = cross_val_score(model, features, labels, scoring='accuracy', cv=CV)\n",
    "  for fold_idx, accuracy in enumerate(accuracies):\n",
    "    entries.append((model_name, fold_idx, accuracy))\n",
    "cv_df = pd.DataFrame(entries, columns=['model_name', 'fold_idx', 'accuracy'])\n",
    "import seaborn as sns\n",
    "sns.boxplot(x='model_name', y='accuracy', data=cv_df)\n",
    "sns.stripplot(x='model_name', y='accuracy', data=cv_df, \n",
    "              size=8, jitter=True, edgecolor=\"gray\", linewidth=2)\n",
    "plt.pyplot.show()"
   ]
  },
  {
   "cell_type": "code",
   "execution_count": 52,
   "metadata": {},
   "outputs": [
    {
     "data": {
      "text/plain": [
       "model_name\n",
       "LinearSVC                 0.756072\n",
       "LogisticRegression        0.703228\n",
       "MultinomialNB             0.606338\n",
       "RandomForestClassifier    0.396929\n",
       "Name: accuracy, dtype: float64"
      ]
     },
     "execution_count": 52,
     "metadata": {},
     "output_type": "execute_result"
    }
   ],
   "source": [
    "cv_df.groupby('model_name').accuracy.mean()"
   ]
  },
  {
   "cell_type": "code",
   "execution_count": 53,
   "metadata": {},
   "outputs": [
    {
     "data": {
      "image/png": "[encoded data removed]",
      "text/plain": [
       "<Figure size 720x720 with 2 Axes>"
      ]
     },
     "metadata": {
      "needs_background": "light"
     },
     "output_type": "display_data"
    }
   ],
   "source": [
    "model = LinearSVC()\n",
    "X_train, X_test, y_train, y_test, indices_train, indices_test = train_test_split(features, labels, sample.id, test_size=0.33, random_state=0)\n",
    "model.fit(X_train, y_train)\n",
    "y_pred = model.predict(X_test)\n",
    "from sklearn.metrics import confusion_matrix\n",
    "conf_mat = confusion_matrix(y_test, y_pred)\n",
    "fig, ax = plt.pyplot.subplots(figsize=(10,10))\n",
    "sns.heatmap(conf_mat, annot=True, fmt='d',\n",
    "            xticklabels=set(sample.id), yticklabels=set(sample.id))\n",
    "plt.pyplot.ylabel('Actual')\n",
    "plt.pyplot.xlabel('Predicted')\n",
    "plt.pyplot.show()"
   ]
  },
  {
   "cell_type": "markdown",
   "metadata": {},
   "source": [
    "# now we see how it works on hebrew dataset\n",
    "for the example i chose a few facebook posts of 4 politicans."
   ]
  },
  {
   "cell_type": "code",
   "execution_count": 23,
   "metadata": {},
   "outputs": [],
   "source": [
    "heb_dataset = pd.read_csv('ניסיון בדיקה1.csv', delimiter=',')"
   ]
  },
  {
   "cell_type": "code",
   "execution_count": 24,
   "metadata": {},
   "outputs": [
    {
     "data": {
      "text/html": [
       "<div>\n",
       "<style scoped>\n",
       "    .dataframe tbody tr th:only-of-type {\n",
       "        vertical-align: middle;\n",
       "    }\n",
       "\n",
       "    .dataframe tbody tr th {\n",
       "        vertical-align: top;\n",
       "    }\n",
       "\n",
       "    .dataframe thead th {\n",
       "        text-align: right;\n",
       "    }\n",
       "</style>\n",
       "<table border=\"1\" class=\"dataframe\">\n",
       "  <thead>\n",
       "    <tr style=\"text-align: right;\">\n",
       "      <th></th>\n",
       "      <th>author</th>\n",
       "      <th>text</th>\n",
       "    </tr>\n",
       "  </thead>\n",
       "  <tbody>\n",
       "    <tr>\n",
       "      <th>0</th>\n",
       "      <td>1111</td>\n",
       "      <td>אף אחד לא יסתום לי את הפה!\\nיושב ראש הוועידה מ...</td>\n",
       "    </tr>\n",
       "    <tr>\n",
       "      <th>1</th>\n",
       "      <td>1111</td>\n",
       "      <td>אני רוצה לספר לכם על יוקר המחיה ולמה פסטה של א...</td>\n",
       "    </tr>\n",
       "    <tr>\n",
       "      <th>2</th>\n",
       "      <td>1111</td>\n",
       "      <td>ועדת המשנה ליחסי חוץ והסברה בראשותי מקיימת כעת...</td>\n",
       "    </tr>\n",
       "    <tr>\n",
       "      <th>3</th>\n",
       "      <td>1111</td>\n",
       "      <td>עדכון לחוק הכלבת:\\nועדת הכלכלה התכנסה היום לדי...</td>\n",
       "    </tr>\n",
       "    <tr>\n",
       "      <th>4</th>\n",
       "      <td>2222</td>\n",
       "      <td>להלן כמה נתונים שמחדדים למה ממש חשוב שנשקיע עכ...</td>\n",
       "    </tr>\n",
       "    <tr>\n",
       "      <th>5</th>\n",
       "      <td>2222</td>\n",
       "      <td>על רקע משבר הקורונה ועל רקע תהליכי הדיגיטציה ו...</td>\n",
       "    </tr>\n",
       "    <tr>\n",
       "      <th>6</th>\n",
       "      <td>2222</td>\n",
       "      <td>בימים אלו אנחנו מבצעים פניות יזומות למאות אלפי...</td>\n",
       "    </tr>\n",
       "    <tr>\n",
       "      <th>7</th>\n",
       "      <td>2222</td>\n",
       "      <td>אנחנו חייבים לדבר על נושא כואב, והוא כמות האנש...</td>\n",
       "    </tr>\n",
       "    <tr>\n",
       "      <th>8</th>\n",
       "      <td>2222</td>\n",
       "      <td>עם כניסתי לתפקיד במשרד לשוויון חברתי וגמלאים ה...</td>\n",
       "    </tr>\n",
       "    <tr>\n",
       "      <th>9</th>\n",
       "      <td>3333</td>\n",
       "      <td>סדום ועמורה. \\nהחלטת בג״צ למנוע את הרס בית רוצ...</td>\n",
       "    </tr>\n",
       "    <tr>\n",
       "      <th>10</th>\n",
       "      <td>3333</td>\n",
       "      <td>ערב כואב. \\nאני מברך את פרופסור רוני גמזו על ה...</td>\n",
       "    </tr>\n",
       "    <tr>\n",
       "      <th>11</th>\n",
       "      <td>3333</td>\n",
       "      <td>לא חכמה לסגור ולסגור עסקים. \\nממשלת ישראל,\\nבמ...</td>\n",
       "    </tr>\n",
       "    <tr>\n",
       "      <th>12</th>\n",
       "      <td>3333</td>\n",
       "      <td>אני קורא לממשלה: \\nאל תשאלו ״מה סוגרים״, \\n אל...</td>\n",
       "    </tr>\n",
       "    <tr>\n",
       "      <th>13</th>\n",
       "      <td>3333</td>\n",
       "      <td>לאור נתוני השבועיים האחרונים,\\nאני קורא לממשלה...</td>\n",
       "    </tr>\n",
       "    <tr>\n",
       "      <th>14</th>\n",
       "      <td>4444</td>\n",
       "      <td>יש קשר עמוק ויסודי בין ההחלטת בג\"צ שלא להרוס א...</td>\n",
       "    </tr>\n",
       "    <tr>\n",
       "      <th>15</th>\n",
       "      <td>4444</td>\n",
       "      <td>אז עכשיו אפשר לומר שזה די רשמי:\\n1. שלא מדובר ...</td>\n",
       "    </tr>\n",
       "    <tr>\n",
       "      <th>16</th>\n",
       "      <td>4444</td>\n",
       "      <td>הסזון הגדול  \\n》》》》》》》》》》》\\nכששמעתי אתמול את א...</td>\n",
       "    </tr>\n",
       "    <tr>\n",
       "      <th>17</th>\n",
       "      <td>4444</td>\n",
       "      <td>שימו לב למפגין הזה בככר פריז. הוא קשר לעצמו את...</td>\n",
       "    </tr>\n",
       "    <tr>\n",
       "      <th>18</th>\n",
       "      <td>4444</td>\n",
       "      <td>תמיד התנגדתי לממשלות אחדות. לאורך שנים הסברתי ...</td>\n",
       "    </tr>\n",
       "  </tbody>\n",
       "</table>\n",
       "</div>"
      ],
      "text/plain": [
       "    author                                               text\n",
       "0     1111  אף אחד לא יסתום לי את הפה!\\nיושב ראש הוועידה מ...\n",
       "1     1111  אני רוצה לספר לכם על יוקר המחיה ולמה פסטה של א...\n",
       "2     1111  ועדת המשנה ליחסי חוץ והסברה בראשותי מקיימת כעת...\n",
       "3     1111  עדכון לחוק הכלבת:\\nועדת הכלכלה התכנסה היום לדי...\n",
       "4     2222  להלן כמה נתונים שמחדדים למה ממש חשוב שנשקיע עכ...\n",
       "5     2222  על רקע משבר הקורונה ועל רקע תהליכי הדיגיטציה ו...\n",
       "6     2222  בימים אלו אנחנו מבצעים פניות יזומות למאות אלפי...\n",
       "7     2222  אנחנו חייבים לדבר על נושא כואב, והוא כמות האנש...\n",
       "8     2222  עם כניסתי לתפקיד במשרד לשוויון חברתי וגמלאים ה...\n",
       "9     3333  סדום ועמורה. \\nהחלטת בג״צ למנוע את הרס בית רוצ...\n",
       "10    3333  ערב כואב. \\nאני מברך את פרופסור רוני גמזו על ה...\n",
       "11    3333  לא חכמה לסגור ולסגור עסקים. \\nממשלת ישראל,\\nבמ...\n",
       "12    3333  אני קורא לממשלה: \\nאל תשאלו ״מה סוגרים״, \\n אל...\n",
       "13    3333  לאור נתוני השבועיים האחרונים,\\nאני קורא לממשלה...\n",
       "14    4444  יש קשר עמוק ויסודי בין ההחלטת בג\"צ שלא להרוס א...\n",
       "15    4444  אז עכשיו אפשר לומר שזה די רשמי:\\n1. שלא מדובר ...\n",
       "16    4444  הסזון הגדול  \\n》》》》》》》》》》》\\nכששמעתי אתמול את א...\n",
       "17    4444  שימו לב למפגין הזה בככר פריז. הוא קשר לעצמו את...\n",
       "18    4444  תמיד התנגדתי לממשלות אחדות. לאורך שנים הסברתי ..."
      ]
     },
     "execution_count": 24,
     "metadata": {},
     "output_type": "execute_result"
    }
   ],
   "source": [
    "heb_dataset"
   ]
  },
  {
   "cell_type": "code",
   "execution_count": 27,
   "metadata": {},
   "outputs": [
    {
     "data": {
      "text/plain": [
       "Text(0.5, 0, 'author id')"
      ]
     },
     "execution_count": 27,
     "metadata": {},
     "output_type": "execute_result"
    },
    {
     "data": {
      "image/png": "[encoded data removed]",
      "text/plain": [
       "<Figure size 864x720 with 1 Axes>"
      ]
     },
     "metadata": {
      "needs_background": "light"
     },
     "output_type": "display_data"
    }
   ],
   "source": [
    "text_group = heb_dataset.groupby('author')\n",
    "ax=text_group['author'].aggregate(len).plot(kind='bar', fontsize=14, figsize=(12,10))\n",
    "ax.set_title('posts per author', fontsize=20)\n",
    "ax.set_ylabel('Number of posts', fontsize=18)\n",
    "ax.set_xlabel('author id', fontsize=18)"
   ]
  },
  {
   "cell_type": "code",
   "execution_count": 28,
   "metadata": {},
   "outputs": [],
   "source": [
    "heb_df = pd.DataFrame(columns=[\"author\", \"text\"])"
   ]
  },
  {
   "cell_type": "code",
   "execution_count": 29,
   "metadata": {},
   "outputs": [],
   "source": [
    "for i in range(len(heb_dataset)):\n",
    "    heb_df.loc[i] = [heb_dataset.loc[i].author, tweet_tok.tokenize(heb_dataset.loc[i].text)]"
   ]
  },
  {
   "cell_type": "code",
   "execution_count": 30,
   "metadata": {},
   "outputs": [
    {
     "data": {
      "text/html": [
       "<div>\n",
       "<style scoped>\n",
       "    .dataframe tbody tr th:only-of-type {\n",
       "        vertical-align: middle;\n",
       "    }\n",
       "\n",
       "    .dataframe tbody tr th {\n",
       "        vertical-align: top;\n",
       "    }\n",
       "\n",
       "    .dataframe thead th {\n",
       "        text-align: right;\n",
       "    }\n",
       "</style>\n",
       "<table border=\"1\" class=\"dataframe\">\n",
       "  <thead>\n",
       "    <tr style=\"text-align: right;\">\n",
       "      <th></th>\n",
       "      <th>author</th>\n",
       "      <th>text</th>\n",
       "    </tr>\n",
       "  </thead>\n",
       "  <tbody>\n",
       "    <tr>\n",
       "      <th>0</th>\n",
       "      <td>1111</td>\n",
       "      <td>[אף, אחד, לא, יסתום, לי, את, הפה, !, יושב, ראש...</td>\n",
       "    </tr>\n",
       "    <tr>\n",
       "      <th>1</th>\n",
       "      <td>1111</td>\n",
       "      <td>[אני, רוצה, לספר, לכם, על, יוקר, המחיה, ולמה, ...</td>\n",
       "    </tr>\n",
       "    <tr>\n",
       "      <th>2</th>\n",
       "      <td>1111</td>\n",
       "      <td>[ועדת, המשנה, ליחסי, חוץ, והסברה, בראשותי, מקי...</td>\n",
       "    </tr>\n",
       "    <tr>\n",
       "      <th>3</th>\n",
       "      <td>1111</td>\n",
       "      <td>[עדכון, לחוק, הכלבת, :, ועדת, הכלכלה, התכנסה, ...</td>\n",
       "    </tr>\n",
       "    <tr>\n",
       "      <th>4</th>\n",
       "      <td>2222</td>\n",
       "      <td>[להלן, כמה, נתונים, שמחדדים, למה, ממש, חשוב, ש...</td>\n",
       "    </tr>\n",
       "    <tr>\n",
       "      <th>5</th>\n",
       "      <td>2222</td>\n",
       "      <td>[על, רקע, משבר, הקורונה, ועל, רקע, תהליכי, הדי...</td>\n",
       "    </tr>\n",
       "    <tr>\n",
       "      <th>6</th>\n",
       "      <td>2222</td>\n",
       "      <td>[בימים, אלו, אנחנו, מבצעים, פניות, יזומות, למא...</td>\n",
       "    </tr>\n",
       "    <tr>\n",
       "      <th>7</th>\n",
       "      <td>2222</td>\n",
       "      <td>[אנחנו, חייבים, לדבר, על, נושא, כואב, ,, והוא,...</td>\n",
       "    </tr>\n",
       "    <tr>\n",
       "      <th>8</th>\n",
       "      <td>2222</td>\n",
       "      <td>[עם, כניסתי, לתפקיד, במשרד, לשוויון, חברתי, וג...</td>\n",
       "    </tr>\n",
       "    <tr>\n",
       "      <th>9</th>\n",
       "      <td>3333</td>\n",
       "      <td>[סדום, ועמורה, ., החלטת, בג, ״, צ, למנוע, את, ...</td>\n",
       "    </tr>\n",
       "    <tr>\n",
       "      <th>10</th>\n",
       "      <td>3333</td>\n",
       "      <td>[ערב, כואב, ., אני, מברך, את, פרופסור, רוני, ג...</td>\n",
       "    </tr>\n",
       "    <tr>\n",
       "      <th>11</th>\n",
       "      <td>3333</td>\n",
       "      <td>[לא, חכמה, לסגור, ולסגור, עסקים, ., ממשלת, ישר...</td>\n",
       "    </tr>\n",
       "    <tr>\n",
       "      <th>12</th>\n",
       "      <td>3333</td>\n",
       "      <td>[אני, קורא, לממשלה, :, אל, תשאלו, ״, מה, סוגרי...</td>\n",
       "    </tr>\n",
       "    <tr>\n",
       "      <th>13</th>\n",
       "      <td>3333</td>\n",
       "      <td>[לאור, נתוני, השבועיים, האחרונים, ,, אני, קורא...</td>\n",
       "    </tr>\n",
       "    <tr>\n",
       "      <th>14</th>\n",
       "      <td>4444</td>\n",
       "      <td>[יש, קשר, עמוק, ויסודי, בין, ההחלטת, בג, \", צ,...</td>\n",
       "    </tr>\n",
       "    <tr>\n",
       "      <th>15</th>\n",
       "      <td>4444</td>\n",
       "      <td>[אז, עכשיו, אפשר, לומר, שזה, די, רשמי, :, 1, ....</td>\n",
       "    </tr>\n",
       "    <tr>\n",
       "      <th>16</th>\n",
       "      <td>4444</td>\n",
       "      <td>[הסזון, הגדול, 》, 》, 》, כששמעתי, אתמול, את, אמ...</td>\n",
       "    </tr>\n",
       "    <tr>\n",
       "      <th>17</th>\n",
       "      <td>4444</td>\n",
       "      <td>[שימו, לב, למפגין, הזה, בככר, פריז, ., הוא, קש...</td>\n",
       "    </tr>\n",
       "    <tr>\n",
       "      <th>18</th>\n",
       "      <td>4444</td>\n",
       "      <td>[תמיד, התנגדתי, לממשלות, אחדות, ., לאורך, שנים...</td>\n",
       "    </tr>\n",
       "  </tbody>\n",
       "</table>\n",
       "</div>"
      ],
      "text/plain": [
       "   author                                               text\n",
       "0    1111  [אף, אחד, לא, יסתום, לי, את, הפה, !, יושב, ראש...\n",
       "1    1111  [אני, רוצה, לספר, לכם, על, יוקר, המחיה, ולמה, ...\n",
       "2    1111  [ועדת, המשנה, ליחסי, חוץ, והסברה, בראשותי, מקי...\n",
       "3    1111  [עדכון, לחוק, הכלבת, :, ועדת, הכלכלה, התכנסה, ...\n",
       "4    2222  [להלן, כמה, נתונים, שמחדדים, למה, ממש, חשוב, ש...\n",
       "5    2222  [על, רקע, משבר, הקורונה, ועל, רקע, תהליכי, הדי...\n",
       "6    2222  [בימים, אלו, אנחנו, מבצעים, פניות, יזומות, למא...\n",
       "7    2222  [אנחנו, חייבים, לדבר, על, נושא, כואב, ,, והוא,...\n",
       "8    2222  [עם, כניסתי, לתפקיד, במשרד, לשוויון, חברתי, וג...\n",
       "9    3333  [סדום, ועמורה, ., החלטת, בג, ״, צ, למנוע, את, ...\n",
       "10   3333  [ערב, כואב, ., אני, מברך, את, פרופסור, רוני, ג...\n",
       "11   3333  [לא, חכמה, לסגור, ולסגור, עסקים, ., ממשלת, ישר...\n",
       "12   3333  [אני, קורא, לממשלה, :, אל, תשאלו, ״, מה, סוגרי...\n",
       "13   3333  [לאור, נתוני, השבועיים, האחרונים, ,, אני, קורא...\n",
       "14   4444  [יש, קשר, עמוק, ויסודי, בין, ההחלטת, בג, \", צ,...\n",
       "15   4444  [אז, עכשיו, אפשר, לומר, שזה, די, רשמי, :, 1, ....\n",
       "16   4444  [הסזון, הגדול, 》, 》, 》, כששמעתי, אתמול, את, אמ...\n",
       "17   4444  [שימו, לב, למפגין, הזה, בככר, פריז, ., הוא, קש...\n",
       "18   4444  [תמיד, התנגדתי, לממשלות, אחדות, ., לאורך, שנים..."
      ]
     },
     "execution_count": 30,
     "metadata": {},
     "output_type": "execute_result"
    }
   ],
   "source": [
    "heb_df"
   ]
  },
  {
   "cell_type": "code",
   "execution_count": 31,
   "metadata": {},
   "outputs": [],
   "source": [
    "for i in range(len(heb_df)):\n",
    "    heb_df.loc[i].text = [x for x in heb_df.loc[i].text if x not in stop_words and len(x) > 1]  "
   ]
  },
  {
   "cell_type": "code",
   "execution_count": 32,
   "metadata": {},
   "outputs": [],
   "source": [
    "Xfeatures = heb_df['text']\n",
    "ylabels = heb_df['author']"
   ]
  },
  {
   "cell_type": "code",
   "execution_count": 33,
   "metadata": {},
   "outputs": [],
   "source": [
    "cv = CountVectorizer(tokenizer=lambda doc: doc, lowercase=False)\n",
    "X = cv.fit_transform(Xfeatures)"
   ]
  },
  {
   "cell_type": "code",
   "execution_count": 34,
   "metadata": {},
   "outputs": [],
   "source": [
    "x_train,x_test,y_train,y_test = train_test_split(X,ylabels,test_size=0.16,random_state=42)"
   ]
  },
  {
   "cell_type": "code",
   "execution_count": 35,
   "metadata": {},
   "outputs": [
    {
     "data": {
      "text/plain": [
       "(15, 2734)"
      ]
     },
     "execution_count": 35,
     "metadata": {},
     "output_type": "execute_result"
    }
   ],
   "source": [
    "x_train.shape"
   ]
  },
  {
   "cell_type": "code",
   "execution_count": 36,
   "metadata": {},
   "outputs": [
    {
     "data": {
      "text/plain": [
       "MultinomialNB(alpha=1.0, class_prior=None, fit_prior=True)"
      ]
     },
     "execution_count": 36,
     "metadata": {},
     "output_type": "execute_result"
    }
   ],
   "source": [
    "y_train = y_train.astype('int')\n",
    "y_test = y_test.astype('int')\n",
    "clf = MultinomialNB()\n",
    "clf.fit(x_train,y_train)"
   ]
  },
  {
   "cell_type": "code",
   "execution_count": 37,
   "metadata": {},
   "outputs": [
    {
     "name": "stdout",
     "output_type": "stream",
     "text": [
      "Accuracy of Model : 0.75\n"
     ]
    }
   ],
   "source": [
    "print(\"Accuracy of Model :\",clf.score(x_test,y_test))"
   ]
  },
  {
   "cell_type": "markdown",
   "metadata": {},
   "source": [
    "## next step is to find more good features that improves our prediction accuracy, to tune the classification algorithms and make them better and consider using Convolutional neural network."
   ]
  },
  {
   "cell_type": "code",
   "execution_count": null,
   "metadata": {},
   "outputs": [],
   "source": []
  }
 ],
 "metadata": {
  "kernelspec": {
   "display_name": "Python 3",
   "language": "python",
   "name": "python3"
  },
  "language_info": {
   "codemirror_mode": {
    "name": "ipython",
    "version": 3
   },
   "file_extension": ".py",
   "mimetype": "text/x-python",
   "name": "python",
   "nbconvert_exporter": "python",
   "pygments_lexer": "ipython3",
   "version": "3.7.6"
  }
 },
 "nbformat": 4,
 "nbformat_minor": 4
}
