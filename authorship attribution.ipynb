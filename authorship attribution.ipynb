{
 "cells": [
  {
   "cell_type": "markdown",
   "metadata": {},
   "source": [
    "# Project: authorship attribution\n",
    "\n",
    "## by: Dekel Mor, Matan Ramati\n",
    "\n",
    "\n",
    "in this project, our purpose is to classify a text to the most fitting author from number of authors.\n",
    "in order to do that we will make research to accomplish a few targets: \n",
    "* identify useful features from texts\n",
    "* finding efficient ways to extract that features \n",
    "* explore algorithms to find the most suitable and accurate one for the task\n",
    "\n",
    "The authorship attribution tool can be useful and powerful. until now we had facial recognition, voice recognition, and fingerprint recognition, all of these cant help when you're stuck with a piece of text.\n",
    "examples for interesting uses: identify impersonators, recognize criminals by text evidence, protect intellectual property, etc.\n",
    "\n",
    "the Data will be an array that contains an array of text words and labels (author name).\n",
    "the source of the data can be Facebook posts, letters, opinion pieces, and other texts that are not in strict formal form.\n",
    "\n",
    "\n"
   ]
  }
 ],
 "metadata": {
  "kernelspec": {
   "display_name": "Python 3",
   "language": "python",
   "name": "python3"
  },
  "language_info": {
   "codemirror_mode": {
    "name": "ipython",
    "version": 3
   },
   "file_extension": ".py",
   "mimetype": "text/x-python",
   "name": "python",
   "nbconvert_exporter": "python",
   "pygments_lexer": "ipython3",
   "version": "3.7.6"
  }
 },
 "nbformat": 4,
 "nbformat_minor": 4
}
