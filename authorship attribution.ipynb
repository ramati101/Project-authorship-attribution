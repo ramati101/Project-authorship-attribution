{
 "cells": [
  {
   "cell_type": "markdown",
   "metadata": {},
   "source": [
    "# Project: authorship attribution\n",
    "\n",
    "## by: Dekel Mor, Matan Ramati\n",
    "\n",
    "\n",
    "in this project, our purpose is to classify a text to the most fitting author from number of authors.\n",
    "in order to do that we will make research to accomplish a few targets: \n",
    "* identify useful features from texts\n",
    "* finding efficient ways to extract that features \n",
    "* explore algorithms to find the most suitable and accurate one for the task\n",
    "\n",
    "The authorship attribution tool can be useful and powerful. until now we had facial recognition, voice recognition, and fingerprint recognition, all of these cant help when you're stuck with a piece of text.\n",
    "examples for interesting uses: identify impersonators, recognize criminals by text evidence, protect intellectual property, etc.\n",
    "\n",
    "the Data will be an array that contains an array of text words and labels (author name).\n",
    "the source of the data can be Facebook posts, letters, opinion pieces, and other texts that are not in strict formal form.\n",
    "\n",
    "\n",
    "\n"
   ]
  },
  {
   "cell_type": "raw",
   "metadata": {},
   "source": [
    "example for text importing and pre process of the data(specifically blog posts):\n"
   ]
  },
  {
   "cell_type": "code",
   "execution_count": 1,
   "metadata": {},
   "outputs": [
    {
     "data": {
      "text/html": [
       "<div>\n",
       "<style scoped>\n",
       "    .dataframe tbody tr th:only-of-type {\n",
       "        vertical-align: middle;\n",
       "    }\n",
       "\n",
       "    .dataframe tbody tr th {\n",
       "        vertical-align: top;\n",
       "    }\n",
       "\n",
       "    .dataframe thead th {\n",
       "        text-align: right;\n",
       "    }\n",
       "</style>\n",
       "<table border=\"1\" class=\"dataframe\">\n",
       "  <thead>\n",
       "    <tr style=\"text-align: right;\">\n",
       "      <th></th>\n",
       "      <th>id</th>\n",
       "      <th>text</th>\n",
       "    </tr>\n",
       "  </thead>\n",
       "  <tbody>\n",
       "    <tr>\n",
       "      <th>0</th>\n",
       "      <td>2059027</td>\n",
       "      <td>Info has been found (+/- 100 pages,...</td>\n",
       "    </tr>\n",
       "    <tr>\n",
       "      <th>1</th>\n",
       "      <td>2059027</td>\n",
       "      <td>These are the team members:   Drewe...</td>\n",
       "    </tr>\n",
       "    <tr>\n",
       "      <th>2</th>\n",
       "      <td>2059027</td>\n",
       "      <td>In het kader van kernfusie op aarde...</td>\n",
       "    </tr>\n",
       "    <tr>\n",
       "      <th>3</th>\n",
       "      <td>2059027</td>\n",
       "      <td>testing!!!  testing!!!</td>\n",
       "    </tr>\n",
       "    <tr>\n",
       "      <th>4</th>\n",
       "      <td>3581210</td>\n",
       "      <td>Thanks to Yahoo!'s Toolbar I can ...</td>\n",
       "    </tr>\n",
       "  </tbody>\n",
       "</table>\n",
       "</div>"
      ],
      "text/plain": [
       "        id                                               text\n",
       "0  2059027             Info has been found (+/- 100 pages,...\n",
       "1  2059027             These are the team members:   Drewe...\n",
       "2  2059027             In het kader van kernfusie op aarde...\n",
       "3  2059027                   testing!!!  testing!!!          \n",
       "4  3581210               Thanks to Yahoo!'s Toolbar I can ..."
      ]
     },
     "execution_count": 1,
     "metadata": {},
     "output_type": "execute_result"
    }
   ],
   "source": [
    "import numpy as np\n",
    "import pandas as pd\n",
    "\n",
    "dataset = pd.read_csv('blogtext.csv', delimiter=',')\n",
    "author_text = dataset[['id','text']]\n",
    "author_text.head()"
   ]
  },
  {
   "cell_type": "markdown",
   "metadata": {},
   "source": [
    "pre process - tokenize text\n",
    "and start finding features(Linguistic richness, frequently words):\n"
   ]
  },
  {
   "cell_type": "code",
   "execution_count": 4,
   "metadata": {},
   "outputs": [
    {
     "name": "stdout",
     "output_type": "stream",
     "text": [
      "['2', 'in', 'het', 'kader', 'van', 'kernfusie', 'op', 'aarde', '...', 'name', ':', 'text', ',', 'dtype', ':', 'object']\n",
      "0.9375\n"
     ]
    },
    {
     "data": {
      "text/plain": [
       "FreqDist({':': 2, '2': 1, 'in': 1, 'het': 1, 'kader': 1, 'van': 1, 'kernfusie': 1, 'op': 1, 'aarde': 1, '...': 1, ...})"
      ]
     },
     "execution_count": 4,
     "metadata": {},
     "output_type": "execute_result"
    }
   ],
   "source": [
    "exampletxt = author_text[2:3].text\n",
    "mystring = str(exampletxt)\n",
    "\n",
    "from nltk.tokenize import TweetTokenizer\n",
    "tweet_tok = TweetTokenizer(preserve_case=False, strip_handles=True, reduce_len=True)\n",
    "words_tok = tweet_tok.tokenize(mystring)\n",
    "\n",
    "print(words_tok)\n",
    "\n",
    "print(len(set(words_tok))/len(words_tok))\n",
    "\n",
    "from nltk import FreqDist\n",
    "FreqDist(words_tok)"
   ]
  },
  {
   "cell_type": "markdown",
   "metadata": {},
   "source": [
    "finding features(finding words who frequently located near to some other word):\n"
   ]
  },
  {
   "cell_type": "code",
   "execution_count": 9,
   "metadata": {},
   "outputs": [
    {
     "name": "stdout",
     "output_type": "stream",
     "text": [
      "meet widow athletic very\n"
     ]
    },
    {
     "data": {
      "image/png": "[encoded data removed]",
      "text/plain": [
       "<Figure size 432x288 with 1 Axes>"
      ]
     },
     "metadata": {
      "needs_background": "light"
     },
     "output_type": "display_data"
    }
   ],
   "source": [
    "from nltk.book import *\n",
    "\n",
    "text8.similar(\"relationship\")\n",
    "\n",
    "import matplotlib as plt;\n",
    "text8.dispersion_plot([\"relationship\",\"seeks\",\"lady\",\"fun\",\"ship\"])"
   ]
  },
  {
   "cell_type": "markdown",
   "metadata": {},
   "source": [
    "as part of the research for the project we will try to find more useful features."
   ]
  },
  {
   "cell_type": "markdown",
   "metadata": {},
   "source": [
    "After we will manage to achieve our main target of text authorship attribution and our algorithem will work as accepted our goal is to adjust the algorithm in order to make it run on Hebrew texts as well.\n",
    "We will try to achieve this goal using excisting open-source tools for Hebrew NLP (Entity recgonition, tokenizing, words tagging etc.) mainley from MILA's (Knowlegde Center For Processing Hebrew) website. (https://yeda.cs.technion.ac.il/eng/index.html) "
   ]
  },
  {
   "cell_type": "code",
   "execution_count": null,
   "metadata": {},
   "outputs": [],
   "source": []
  }
 ],
 "metadata": {
  "kernelspec": {
   "display_name": "Python 3",
   "language": "python",
   "name": "python3"
  },
  "language_info": {
   "codemirror_mode": {
    "name": "ipython",
    "version": 3
   },
   "file_extension": ".py",
   "mimetype": "text/x-python",
   "name": "python",
   "nbconvert_exporter": "python",
   "pygments_lexer": "ipython3",
   "version": "3.7.6"
  }
 },
 "nbformat": 4,
 "nbformat_minor": 4
}
